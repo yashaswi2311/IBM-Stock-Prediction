{
 "cells": [
  {
   "cell_type": "code",
   "execution_count": 1,
   "metadata": {},
   "outputs": [
    {
     "name": "stdout",
     "output_type": "stream",
     "text": [
      "Requirement already satisfied: statsmodels in c:\\users\\smit2\\appdata\\local\\programs\\python\\python37-32\\lib\\site-packages (0.11.1)\n",
      "Requirement already satisfied: pandas>=0.21 in c:\\users\\smit2\\appdata\\local\\programs\\python\\python37-32\\lib\\site-packages (from statsmodels) (1.0.3)\n",
      "Requirement already satisfied: numpy>=1.14 in c:\\users\\smit2\\appdata\\local\\programs\\python\\python37-32\\lib\\site-packages (from statsmodels) (1.16.1)\n",
      "Requirement already satisfied: scipy>=1.0 in c:\\users\\smit2\\appdata\\local\\programs\\python\\python37-32\\lib\\site-packages (from statsmodels) (1.2.0)\n",
      "Requirement already satisfied: patsy>=0.5 in c:\\users\\smit2\\appdata\\local\\programs\\python\\python37-32\\lib\\site-packages (from statsmodels) (0.5.1)\n",
      "Requirement already satisfied: pytz>=2017.2 in c:\\users\\smit2\\appdata\\local\\programs\\python\\python37-32\\lib\\site-packages (from pandas>=0.21->statsmodels) (2018.5)\n",
      "Requirement already satisfied: python-dateutil>=2.6.1 in c:\\users\\smit2\\appdata\\local\\programs\\python\\python37-32\\lib\\site-packages (from pandas>=0.21->statsmodels) (2.7.5)\n",
      "Requirement already satisfied: six in c:\\users\\smit2\\appdata\\local\\programs\\python\\python37-32\\lib\\site-packages (from patsy>=0.5->statsmodels) (1.11.0)\n"
     ]
    }
   ],
   "source": [
    "!pip install statsmodels"
   ]
  },
  {
   "cell_type": "code",
   "execution_count": 2,
   "metadata": {
    "colab": {},
    "colab_type": "code",
    "id": "ItveBPA-5G_6"
   },
   "outputs": [],
   "source": [
    "import pandas as pd\n",
    "import numpy as np \n",
    "\n",
    "import statsmodels.formula.api as sm # module for stats models\n",
    "from statsmodels.iolib.summary2 import summary_col # module for presenting stats models outputs nicely"
   ]
  },
  {
   "cell_type": "code",
   "execution_count": 3,
   "metadata": {
    "colab": {},
    "colab_type": "code",
    "id": "vl3qdYbPAGWe"
   },
   "outputs": [],
   "source": [
    "def price2ret(prices,retType='simple'):\n",
    "    if retType == 'simple':\n",
    "        ret = (prices/prices.shift(1))-1\n",
    "    else:\n",
    "        ret = np.log(prices/prices.shift(1))\n",
    "    return ret"
   ]
  },
  {
   "cell_type": "code",
   "execution_count": 4,
   "metadata": {
    "colab": {},
    "colab_type": "code",
    "id": "EVUfbKweAKXW"
   },
   "outputs": [],
   "source": [
    "def assetPriceReg(df_stk):\n",
    "    import pandas_datareader.data as web  # module for reading datasets directly from the web\n",
    "    \n",
    "    # Reading in factor data\n",
    "    df_factors = web.DataReader('F-F_Research_Data_5_Factors_2x3_daily', 'famafrench')[0]\n",
    "    df_factors.rename(columns={'Mkt-RF': 'MKT'}, inplace=True)\n",
    "    df_factors['MKT'] = df_factors['MKT']/100\n",
    "    df_factors['SMB'] = df_factors['SMB']/100\n",
    "    df_factors['HML'] = df_factors['HML']/100\n",
    "    df_factors['RMW'] = df_factors['RMW']/100\n",
    "    df_factors['CMA'] = df_factors['CMA']/100\n",
    "    \n",
    "    df_stock_factor = pd.merge(df_stk,df_factors,left_index=True,right_index=True) # Merging the stock and factor returns dataframes together\n",
    "    df_stock_factor['XsRet'] = df_stock_factor['Returns'] - df_stock_factor['RF'] # Calculating excess returns\n",
    "\n",
    "    # Running CAPM, FF3, and FF5 models.\n",
    "    CAPM = sm.ols(formula = 'XsRet ~ MKT', data=df_stock_factor).fit(cov_type='HAC',cov_kwds={'maxlags':1})\n",
    "    FF3 = sm.ols( formula = 'XsRet ~ MKT + SMB + HML', data=df_stock_factor).fit(cov_type='HAC',cov_kwds={'maxlags':1})\n",
    "    FF5 = sm.ols( formula = 'XsRet ~ MKT + SMB + HML + RMW + CMA', data=df_stock_factor).fit(cov_type='HAC',cov_kwds={'maxlags':1})\n",
    "\n",
    "    CAPMtstat = CAPM.tvalues\n",
    "    FF3tstat = FF3.tvalues\n",
    "    FF5tstat = FF5.tvalues\n",
    "\n",
    "    CAPMcoeff = CAPM.params\n",
    "    FF3coeff = FF3.params\n",
    "    FF5coeff = FF5.params\n",
    "\n",
    "    # DataFrame with coefficients and t-stats\n",
    "    results_df = pd.DataFrame({'CAPMcoeff':CAPMcoeff,'CAPMtstat':CAPMtstat,\n",
    "                               'FF3coeff':FF3coeff, 'FF3tstat':FF3tstat,\n",
    "                               'FF5coeff':FF5coeff, 'FF5tstat':FF5tstat},\n",
    "    index = ['Intercept', 'MKT', 'SMB', 'HML', 'RMW', 'CMA'])\n",
    "\n",
    "\n",
    "    dfoutput = summary_col([CAPM,FF3, FF5],stars=True,float_format='%0.4f',\n",
    "                  model_names=['CAPM','FF3','FF5'],\n",
    "                  info_dict={'N':lambda x: \"{0:d}\".format(int(x.nobs)),\n",
    "                             'Adjusted R2':lambda x: \"{:.4f}\".format(x.rsquared_adj)}, \n",
    "                             regressor_order = ['Intercept', 'MKT', 'SMB', 'HML', 'RMW', 'CMA'])\n",
    "\n",
    "    print(dfoutput)\n",
    "    \n",
    "    return results_df"
   ]
  },
  {
   "cell_type": "code",
   "execution_count": 5,
   "metadata": {
    "colab": {
     "base_uri": "https://localhost:8080/",
     "height": 438
    },
    "colab_type": "code",
    "id": "SavAYnHcAToe",
    "outputId": "a03d2d74-aa23-4623-b9ab-f13e1a61630a"
   },
   "outputs": [
    {
     "data": {
      "text/html": [
       "<div>\n",
       "<style scoped>\n",
       "    .dataframe tbody tr th:only-of-type {\n",
       "        vertical-align: middle;\n",
       "    }\n",
       "\n",
       "    .dataframe tbody tr th {\n",
       "        vertical-align: top;\n",
       "    }\n",
       "\n",
       "    .dataframe thead th {\n",
       "        text-align: right;\n",
       "    }\n",
       "</style>\n",
       "<table border=\"1\" class=\"dataframe\">\n",
       "  <thead>\n",
       "    <tr style=\"text-align: right;\">\n",
       "      <th></th>\n",
       "      <th>High</th>\n",
       "      <th>Low</th>\n",
       "      <th>Open</th>\n",
       "      <th>Close</th>\n",
       "      <th>Volume</th>\n",
       "      <th>Adj Close</th>\n",
       "    </tr>\n",
       "    <tr>\n",
       "      <th>Date</th>\n",
       "      <th></th>\n",
       "      <th></th>\n",
       "      <th></th>\n",
       "      <th></th>\n",
       "      <th></th>\n",
       "      <th></th>\n",
       "    </tr>\n",
       "  </thead>\n",
       "  <tbody>\n",
       "    <tr>\n",
       "      <th>2010-01-04</th>\n",
       "      <td>132.970001</td>\n",
       "      <td>130.850006</td>\n",
       "      <td>131.179993</td>\n",
       "      <td>132.449997</td>\n",
       "      <td>6155300.0</td>\n",
       "      <td>95.994934</td>\n",
       "    </tr>\n",
       "    <tr>\n",
       "      <th>2010-01-05</th>\n",
       "      <td>131.850006</td>\n",
       "      <td>130.100006</td>\n",
       "      <td>131.679993</td>\n",
       "      <td>130.850006</td>\n",
       "      <td>6841400.0</td>\n",
       "      <td>94.835304</td>\n",
       "    </tr>\n",
       "    <tr>\n",
       "      <th>2010-01-06</th>\n",
       "      <td>131.490005</td>\n",
       "      <td>129.809998</td>\n",
       "      <td>130.679993</td>\n",
       "      <td>130.000000</td>\n",
       "      <td>5605300.0</td>\n",
       "      <td>94.219246</td>\n",
       "    </tr>\n",
       "    <tr>\n",
       "      <th>2010-01-07</th>\n",
       "      <td>130.250000</td>\n",
       "      <td>128.910004</td>\n",
       "      <td>129.869995</td>\n",
       "      <td>129.550003</td>\n",
       "      <td>5840600.0</td>\n",
       "      <td>93.893105</td>\n",
       "    </tr>\n",
       "    <tr>\n",
       "      <th>2010-01-08</th>\n",
       "      <td>130.919998</td>\n",
       "      <td>129.050003</td>\n",
       "      <td>129.070007</td>\n",
       "      <td>130.850006</td>\n",
       "      <td>4197200.0</td>\n",
       "      <td>94.835304</td>\n",
       "    </tr>\n",
       "  </tbody>\n",
       "</table>\n",
       "</div>"
      ],
      "text/plain": [
       "                  High         Low        Open       Close     Volume  \\\n",
       "Date                                                                    \n",
       "2010-01-04  132.970001  130.850006  131.179993  132.449997  6155300.0   \n",
       "2010-01-05  131.850006  130.100006  131.679993  130.850006  6841400.0   \n",
       "2010-01-06  131.490005  129.809998  130.679993  130.000000  5605300.0   \n",
       "2010-01-07  130.250000  128.910004  129.869995  129.550003  5840600.0   \n",
       "2010-01-08  130.919998  129.050003  129.070007  130.850006  4197200.0   \n",
       "\n",
       "            Adj Close  \n",
       "Date                   \n",
       "2010-01-04  95.994934  \n",
       "2010-01-05  94.835304  \n",
       "2010-01-06  94.219246  \n",
       "2010-01-07  93.893105  \n",
       "2010-01-08  94.835304  "
      ]
     },
     "execution_count": 5,
     "metadata": {},
     "output_type": "execute_result"
    }
   ],
   "source": [
    "\n",
    "df_stk = pd.read_csv(\"ibm.csv\",index_col='Date',parse_dates=True)\n",
    "df_stk.head()"
   ]
  },
  {
   "cell_type": "code",
   "execution_count": 6,
   "metadata": {
    "colab": {
     "base_uri": "https://localhost:8080/",
     "height": 185
    },
    "colab_type": "code",
    "id": "HMqv9jhyBAIg",
    "outputId": "c46f8531-d460-4027-e025-5ea71348d339"
   },
   "outputs": [
    {
     "data": {
      "text/plain": [
       "<matplotlib.axes._subplots.AxesSubplot at 0x1ada1290>"
      ]
     },
     "execution_count": 6,
     "metadata": {},
     "output_type": "execute_result"
    }
   ],
   "source": [
    "df_stk.drop(['Volume'],axis=1,inplace=True)\n",
    "df_stk.plot()"
   ]
  },
  {
   "cell_type": "code",
   "execution_count": 7,
   "metadata": {
    "colab": {},
    "colab_type": "code",
    "id": "Jb1CaVY0BEDX"
   },
   "outputs": [
    {
     "data": {
      "text/html": [
       "<div>\n",
       "<style scoped>\n",
       "    .dataframe tbody tr th:only-of-type {\n",
       "        vertical-align: middle;\n",
       "    }\n",
       "\n",
       "    .dataframe tbody tr th {\n",
       "        vertical-align: top;\n",
       "    }\n",
       "\n",
       "    .dataframe thead th {\n",
       "        text-align: right;\n",
       "    }\n",
       "</style>\n",
       "<table border=\"1\" class=\"dataframe\">\n",
       "  <thead>\n",
       "    <tr style=\"text-align: right;\">\n",
       "      <th></th>\n",
       "      <th>High</th>\n",
       "      <th>Low</th>\n",
       "      <th>Open</th>\n",
       "      <th>Close</th>\n",
       "      <th>Adj Close</th>\n",
       "      <th>Returns</th>\n",
       "    </tr>\n",
       "    <tr>\n",
       "      <th>Date</th>\n",
       "      <th></th>\n",
       "      <th></th>\n",
       "      <th></th>\n",
       "      <th></th>\n",
       "      <th></th>\n",
       "      <th></th>\n",
       "    </tr>\n",
       "  </thead>\n",
       "  <tbody>\n",
       "    <tr>\n",
       "      <th>2010-01-05</th>\n",
       "      <td>131.850006</td>\n",
       "      <td>130.100006</td>\n",
       "      <td>131.679993</td>\n",
       "      <td>130.850006</td>\n",
       "      <td>94.835304</td>\n",
       "      <td>-0.012080</td>\n",
       "    </tr>\n",
       "    <tr>\n",
       "      <th>2010-01-06</th>\n",
       "      <td>131.490005</td>\n",
       "      <td>129.809998</td>\n",
       "      <td>130.679993</td>\n",
       "      <td>130.000000</td>\n",
       "      <td>94.219246</td>\n",
       "      <td>-0.006496</td>\n",
       "    </tr>\n",
       "    <tr>\n",
       "      <th>2010-01-07</th>\n",
       "      <td>130.250000</td>\n",
       "      <td>128.910004</td>\n",
       "      <td>129.869995</td>\n",
       "      <td>129.550003</td>\n",
       "      <td>93.893105</td>\n",
       "      <td>-0.003462</td>\n",
       "    </tr>\n",
       "    <tr>\n",
       "      <th>2010-01-08</th>\n",
       "      <td>130.919998</td>\n",
       "      <td>129.050003</td>\n",
       "      <td>129.070007</td>\n",
       "      <td>130.850006</td>\n",
       "      <td>94.835304</td>\n",
       "      <td>0.010035</td>\n",
       "    </tr>\n",
       "    <tr>\n",
       "      <th>2010-01-11</th>\n",
       "      <td>131.059998</td>\n",
       "      <td>128.669998</td>\n",
       "      <td>131.059998</td>\n",
       "      <td>129.479996</td>\n",
       "      <td>93.842384</td>\n",
       "      <td>-0.010470</td>\n",
       "    </tr>\n",
       "  </tbody>\n",
       "</table>\n",
       "</div>"
      ],
      "text/plain": [
       "                  High         Low        Open       Close  Adj Close  \\\n",
       "Date                                                                    \n",
       "2010-01-05  131.850006  130.100006  131.679993  130.850006  94.835304   \n",
       "2010-01-06  131.490005  129.809998  130.679993  130.000000  94.219246   \n",
       "2010-01-07  130.250000  128.910004  129.869995  129.550003  93.893105   \n",
       "2010-01-08  130.919998  129.050003  129.070007  130.850006  94.835304   \n",
       "2010-01-11  131.059998  128.669998  131.059998  129.479996  93.842384   \n",
       "\n",
       "             Returns  \n",
       "Date                  \n",
       "2010-01-05 -0.012080  \n",
       "2010-01-06 -0.006496  \n",
       "2010-01-07 -0.003462  \n",
       "2010-01-08  0.010035  \n",
       "2010-01-11 -0.010470  "
      ]
     },
     "execution_count": 7,
     "metadata": {},
     "output_type": "execute_result"
    }
   ],
   "source": [
    "df_stk['Returns'] = price2ret(df_stk[['Adj Close']])\n",
    "df_stk = df_stk.dropna()\n",
    "df_stk.head()"
   ]
  },
  {
   "cell_type": "code",
   "execution_count": 8,
   "metadata": {
    "colab": {},
    "colab_type": "code",
    "id": "Th7fLJcSBGFs"
   },
   "outputs": [
    {
     "data": {
      "text/plain": [
       "<matplotlib.axes._subplots.AxesSubplot at 0x1c719af0>"
      ]
     },
     "execution_count": 8,
     "metadata": {},
     "output_type": "execute_result"
    },
    {
     "data": {
      "image/png": "[encoded data removed]",
      "text/plain": [
       "<Figure size 432x288 with 1 Axes>"
      ]
     },
     "metadata": {
      "needs_background": "light"
     },
     "output_type": "display_data"
    }
   ],
   "source": [
    "df_stk['Returns'].plot()"
   ]
  },
  {
   "cell_type": "code",
   "execution_count": 9,
   "metadata": {
    "colab": {},
    "colab_type": "code",
    "id": "yaPl1dmwBIFW"
   },
   "outputs": [
    {
     "data": {
      "text/plain": [
       "<matplotlib.axes._subplots.AxesSubplot at 0x1c7825f0>"
      ]
     },
     "execution_count": 9,
     "metadata": {},
     "output_type": "execute_result"
    },
    {
     "data": {
      "image/png": "[encoded data removed]",
      "text/plain": [
       "<Figure size 432x288 with 1 Axes>"
      ]
     },
     "metadata": {
      "needs_background": "light"
     },
     "output_type": "display_data"
    }
   ],
   "source": [
    "df_stk['Returns'].hist(bins=20)"
   ]
  },
  {
   "cell_type": "code",
   "execution_count": 10,
   "metadata": {
    "colab": {},
    "colab_type": "code",
    "id": "_0JhPrpyBKI3"
   },
   "outputs": [
    {
     "name": "stderr",
     "output_type": "stream",
     "text": [
      "c:\\users\\smit2\\appdata\\local\\programs\\python\\python37-32\\lib\\site-packages\\pandas_datareader\\compat\\__init__.py:7: FutureWarning: pandas.util.testing is deprecated. Use the functions in the public API at pandas.testing instead.\n",
      "  from pandas.util.testing import assert_frame_equal\n"
     ]
    },
    {
     "name": "stdout",
     "output_type": "stream",
     "text": [
      "\n",
      "============================================\n",
      "               CAPM       FF3        FF5    \n",
      "--------------------------------------------\n",
      "Intercept   -0.0044*** -0.0044*** -0.0045***\n",
      "            (0.0003)   (0.0003)   (0.0003)  \n",
      "MKT         0.9319***  0.9626***  1.0100*** \n",
      "            (0.0328)   (0.0322)   (0.0358)  \n",
      "SMB                    -0.2049*** -0.1737** \n",
      "                       (0.0667)   (0.0700)  \n",
      "HML                    0.2057***  0.1030    \n",
      "                       (0.0665)   (0.0806)  \n",
      "RMW                               0.3044*** \n",
      "                                  (0.1025)  \n",
      "CMA                               0.2758**  \n",
      "                                  (0.1349)  \n",
      "R-squared   0.3636     0.3746     0.3822    \n",
      "            0.3641     0.3761     0.3848    \n",
      "N           1199       1199       1199      \n",
      "Adjusted R2 0.3636     0.3746     0.3822    \n",
      "============================================\n",
      "Standard errors in parentheses.\n",
      "* p<.1, ** p<.05, ***p<.01\n"
     ]
    }
   ],
   "source": [
    "df_regOutput = assetPriceReg(df_stk)"
   ]
  }
 ],
 "metadata": {
  "colab": {
   "name": "Untitled2.ipynb",
   "provenance": []
  },
  "kernelspec": {
   "display_name": "Python 3",
   "language": "python",
   "name": "python3"
  },
  "language_info": {
   "codemirror_mode": {
    "name": "ipython",
    "version": 3
   },
   "file_extension": ".py",
   "mimetype": "text/x-python",
   "name": "python",
   "nbconvert_exporter": "python",
   "pygments_lexer": "ipython3",
   "version": "3.7.3"
  }
 },
 "nbformat": 4,
 "nbformat_minor": 1
}
